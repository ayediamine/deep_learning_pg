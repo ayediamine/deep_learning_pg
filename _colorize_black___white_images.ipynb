{
  "nbformat": 4,
  "nbformat_minor": 0,
  "metadata": {
    "colab": {
      "provenance": [],
      "authorship_tag": "ABX9TyM2qZqp1emx0h0WiId4X1VJ",
      "include_colab_link": true
    },
    "kernelspec": {
      "name": "python3",
      "display_name": "Python 3"
    },
    "language_info": {
      "name": "python"
    }
  },
  "cells": [
    {
      "cell_type": "markdown",
      "metadata": {
        "id": "view-in-github",
        "colab_type": "text"
      },
      "source": [
        "<a href=\"https://colab.research.google.com/github/ayediamine/deep_learning_pg/blob/main/_colorize_black___white_images.ipynb\" target=\"_parent\"><img src=\"https://colab.research.google.com/assets/colab-badge.svg\" alt=\"Open In Colab\"/></a>"
      ]
    },
    {
      "cell_type": "code",
      "execution_count": 2,
      "metadata": {
        "id": "SUNfh6t3i9IX",
        "colab": {
          "base_uri": "https://localhost:8080/"
        },
        "outputId": "efed0648-8161-40a3-d683-fc06852f7577"
      },
      "outputs": [
        {
          "output_type": "stream",
          "name": "stdout",
          "text": [
            "Drive already mounted at /content/drive; to attempt to forcibly remount, call drive.mount(\"/content/drive\", force_remount=True).\n"
          ]
        }
      ],
      "source": [
        "from google.colab import drive\n",
        "drive.mount('/content/drive')\n"
      ]
    },
    {
      "cell_type": "code",
      "source": [
        "import numpy as np\n",
        "import cv2 as cv\n",
        "import os.path\n"
      ],
      "metadata": {
        "id": "yuw2sQAbjFox"
      },
      "execution_count": 3,
      "outputs": []
    },
    {
      "cell_type": "code",
      "source": [
        "frame = cv.imread(\"/content/drive/MyDrive/Project_Deep_Learning/Lion.jpg\")\n",
        "\n",
        "numpy_file = np.load('/content/drive/MyDrive/Project_Deep_Learning/pts_in_hull (2).npy')\n",
        "\n",
        "Caffe_net = cv.dnn.readNetFromCaffe(\"/content/drive/MyDrive/Project_Deep_Learning/The_Model/colorization_deploy_v2.prototxt\", \"/content/drive/MyDrive/Project_Deep_Learning/The_Model/colorization_release_v2.caffemodel\")\n"
      ],
      "metadata": {
        "id": "ZlxlKSYm_sMN"
      },
      "execution_count": 4,
      "outputs": []
    },
    {
      "cell_type": "code",
      "source": [
        "numpy_file = numpy_file.transpose().reshape(2, 313, 1, 1)\n",
        "Caffe_net.getLayer(Caffe_net.getLayerId('class8_ab')).blobs = [numpy_file.astype(np.float32)]\n",
        "Caffe_net.getLayer(Caffe_net.getLayerId('conv8_313_rh')).blobs = [np.full([1, 313], 2.606, np.float32)]\n"
      ],
      "metadata": {
        "id": "LfmQ0e5GAMzk"
      },
      "execution_count": 5,
      "outputs": []
    },
    {
      "cell_type": "code",
      "source": [
        "input_width = 224\n",
        "input_height = 224\n",
        "\n",
        "rgb_img = (frame[:,:,[2, 1, 0]] * 1.0 / 255).astype(np.float32)\n",
        "lab_img = cv.cvtColor(rgb_img, cv.COLOR_RGB2Lab)\n",
        "l_channel = lab_img[:,:,0] \n",
        "\n",
        "l_channel_resize = cv.resize(l_channel, (input_width, input_height)) \n",
        "l_channel_resize -= 50\n"
      ],
      "metadata": {
        "id": "-LhGMeO6AO6d"
      },
      "execution_count": 6,
      "outputs": []
    },
    {
      "cell_type": "code",
      "source": [
        "Caffe_net.setInput(cv.dnn.blobFromImage(l_channel_resize))\n",
        "ab_channel = Caffe_net.forward()[0,:,:,:].transpose((1,2,0)) \n",
        "\n",
        "(original_height,original_width) = rgb_img.shape[:2] \n",
        "ab_channel_us = cv.resize(ab_channel, (original_width, original_height))\n",
        "lab_output = np.concatenate((l_channel[:,:,np.newaxis],ab_channel_us),axis=2) \n",
        "bgr_output = np.clip(cv.cvtColor(lab_output, cv.COLOR_Lab2BGR), 0, 1)\n",
        "\n",
        "cv.imwrite(\"/content/drive/MyDrive/Project_Deep_Learning/The_Model/result.png\", (bgr_output*255).astype(np.uint8))\n"
      ],
      "metadata": {
        "colab": {
          "base_uri": "https://localhost:8080/"
        },
        "id": "5E3MDiD4ARjA",
        "outputId": "e86e7a2f-edfd-4bda-a838-e6386d9d219b"
      },
      "execution_count": 7,
      "outputs": [
        {
          "output_type": "execute_result",
          "data": {
            "text/plain": [
              "True"
            ]
          },
          "metadata": {},
          "execution_count": 7
        }
      ]
    }
  ]
}